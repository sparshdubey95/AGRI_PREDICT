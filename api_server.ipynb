{
 "cells": [
  {
   "cell_type": "markdown",
   "id": "908485b4",
   "metadata": {},
   "source": [
    "Simple Flask API for the Crop Yield Prediction System"
   ]
  },
  {
   "cell_type": "code",
   "execution_count": 3,
   "id": "4d42b848",
   "metadata": {},
   "outputs": [],
   "source": [
    "from flask import Flask, request, jsonify\n",
    "import numpy as np\n",
    "from complete_crop_prediction_system import CropOptimizationApp"
   ]
  },
  {
   "cell_type": "code",
   "execution_count": 2,
   "id": "d70b635a",
   "metadata": {},
   "outputs": [],
   "source": [
    "app = Flask(__name__)"
   ]
  },
  {
   "cell_type": "code",
   "execution_count": 4,
   "id": "063fb17c",
   "metadata": {},
   "outputs": [
    {
     "name": "stdout",
     "output_type": "stream",
     "text": [
      "Initializing Crop Optimization System...\n",
      "✅ Model trained successfully!\n",
      "📊 Best Model: Gradient Boosting\n",
      "🎯 R² Score: 0.9940\n",
      "📈 RMSE: 0.7383\n"
     ]
    },
    {
     "data": {
      "text/plain": [
       "{'best_model': 'Gradient Boosting',\n",
       " 'r2_score': 0.9939555585332636,\n",
       " 'rmse': 0.7383038191070785,\n",
       " 'mae': 0.283834392477379,\n",
       " 'training_samples': 2000}"
      ]
     },
     "execution_count": 4,
     "metadata": {},
     "output_type": "execute_result"
    }
   ],
   "source": [
    "# Initialize the crop optimization system\n",
    "crop_app = CropOptimizationApp()\n",
    "crop_app.initialize_system()"
   ]
  },
  {
   "cell_type": "code",
   "execution_count": 13,
   "id": "9bc5655c",
   "metadata": {},
   "outputs": [],
   "source": [
    "if 'predict_crop' in app.view_functions:\n",
    "    app.view_functions.pop('predict_crop')\n",
    "\n",
    "@app.route('/predict', methods=['POST'])\n",
    "def predict_crop():\n",
    "    \"\"\"\n",
    "    API endpoint for crop prediction\n",
    "    \"\"\"\n",
    "    try:\n",
    "        data = request.get_json()\n",
    "\n",
    "        soil_params = data.get('soil_params', {})\n",
    "        weather_params = data.get('weather_params', {})\n",
    "        area = data.get('area', 1.0)\n",
    "\n",
    "        # Get predictions\n",
    "        recommendations = crop_app.predictor.recommend_best_crop(\n",
    "            soil_params, weather_params, area\n",
    "        )\n",
    "\n",
    "        # Get optimization recommendations\n",
    "        optimizations = crop_app.predictor.generate_optimization_recommendations(\n",
    "            soil_params\n",
    "        )\n",
    "\n",
    "        return jsonify({\n",
    "            'status': 'success',\n",
    "            'crop_recommendations': recommendations[:5],\n",
    "            'optimization_recommendations': optimizations\n",
    "        })\n",
    "\n",
    "    except Exception as e:\n",
    "        return jsonify({\n",
    "            'status': 'error',\n",
    "            'message': str(e)\n",
    "        }), 400\n",
    "\n",
    "\n",
    "if 'health_check' in app.view_functions:\n",
    "    app.view_functions.pop('health_check')\n",
    "\n",
    "@app.route('/health', methods=['GET'])\n",
    "def health_check():\n",
    "    \"\"\"\n",
    "    Health check endpoint\n",
    "    \"\"\"\n",
    "    return jsonify({'status': 'healthy', 'service': 'Crop Prediction API'})\n"
   ]
  },
  {
   "cell_type": "code",
   "execution_count": 15,
   "id": "867e6b37",
   "metadata": {},
   "outputs": [
    {
     "name": "stdout",
     "output_type": "stream",
     "text": [
      " * Serving Flask app '__main__'\n",
      " * Debug mode: on\n"
     ]
    },
    {
     "name": "stderr",
     "output_type": "stream",
     "text": [
      "WARNING: This is a development server. Do not use it in a production deployment. Use a production WSGI server instead.\n",
      " * Running on all addresses (0.0.0.0)\n",
      " * Running on http://127.0.0.1:5000\n",
      " * Running on http://192.168.1.34:5000\n",
      "Press CTRL+C to quit\n",
      " * Restarting with stat\n"
     ]
    },
    {
     "ename": "SystemExit",
     "evalue": "1",
     "output_type": "error",
     "traceback": [
      "An exception has occurred, use %tb to see the full traceback.\n",
      "\u001b[1;31mSystemExit\u001b[0m\u001b[1;31m:\u001b[0m 1\n"
     ]
    }
   ],
   "source": [
    "if __name__ == '__main__':\n",
    "    app.run(debug=True, host='0.0.0.0', port=5000)"
   ]
  }
 ],
 "metadata": {
  "kernelspec": {
   "display_name": "Python 3",
   "language": "python",
   "name": "python3"
  },
  "language_info": {
   "codemirror_mode": {
    "name": "ipython",
    "version": 3
   },
   "file_extension": ".py",
   "mimetype": "text/x-python",
   "name": "python",
   "nbconvert_exporter": "python",
   "pygments_lexer": "ipython3",
   "version": "3.11.9"
  }
 },
 "nbformat": 4,
 "nbformat_minor": 5
}
